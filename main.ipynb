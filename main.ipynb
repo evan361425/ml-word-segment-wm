{
 "cells": [
  {
   "cell_type": "code",
   "execution_count": 3,
   "metadata": {},
   "outputs": [
    {
     "name": "stdout",
     "output_type": "stream",
     "text": [
      "The autoreload extension is already loaded. To reload it, use:\n",
      "  %reload_ext autoreload\n"
     ]
    }
   ],
   "source": [
    "%load_ext autoreload\n",
    "%autoreload 2\n",
    "\n",
    "from wmseg_main import load_model\n",
    "\n",
    "model = load_model('./models/WMSeg.BERT.CTB6.v1.0.pt')"
   ]
  },
  {
   "cell_type": "code",
   "execution_count": 4,
   "metadata": {},
   "outputs": [
    {
     "ename": "TypeError",
     "evalue": "predict() got an unexpected keyword argument 'model'",
     "output_type": "error",
     "traceback": [
      "\u001b[0;31m---------------------------------------------------------------------------\u001b[0m",
      "\u001b[0;31mTypeError\u001b[0m                                 Traceback (most recent call last)",
      "Cell \u001b[0;32mIn [4], line 3\u001b[0m\n\u001b[1;32m      1\u001b[0m \u001b[39mfrom\u001b[39;00m \u001b[39mwmseg_main\u001b[39;00m \u001b[39mimport\u001b[39;00m predict\n\u001b[0;32m----> 3\u001b[0m predict({\n\u001b[1;32m      4\u001b[0m   \u001b[39m'\u001b[39;49m\u001b[39minput\u001b[39;49m\u001b[39m'\u001b[39;49m: \u001b[39m'\u001b[39;49m\u001b[39m./sample_data/sentence.txt\u001b[39;49m\u001b[39m'\u001b[39;49m,\n\u001b[1;32m      5\u001b[0m   \u001b[39m'\u001b[39;49m\u001b[39mno_cuda\u001b[39;49m\u001b[39m'\u001b[39;49m: \u001b[39mTrue\u001b[39;49;00m\n\u001b[1;32m      6\u001b[0m }, model\u001b[39m=\u001b[39;49mmodel)\n",
      "\u001b[0;31mTypeError\u001b[0m: predict() got an unexpected keyword argument 'model'"
     ]
    }
   ],
   "source": [
    "from wmseg_main import predict\n",
    "\n",
    "predict({\n",
    "  'input': './sample_data/sentence.txt',\n",
    "  'no_cuda': True\n",
    "}, seg_model=model)"
   ]
  }
 ],
 "metadata": {
  "kernelspec": {
   "display_name": "Python 3.10.8 ('.venv': pipenv)",
   "language": "python",
   "name": "python3"
  },
  "language_info": {
   "codemirror_mode": {
    "name": "ipython",
    "version": 3
   },
   "file_extension": ".py",
   "mimetype": "text/x-python",
   "name": "python",
   "nbconvert_exporter": "python",
   "pygments_lexer": "ipython3",
   "version": "3.10.8"
  },
  "orig_nbformat": 4,
  "vscode": {
   "interpreter": {
    "hash": "8186565ad1cb07f1f675d82d0344bd188f3b6eb0599cfd62f825c07a1c859fb9"
   }
  }
 },
 "nbformat": 4,
 "nbformat_minor": 2
}
