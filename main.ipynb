{
 "cells": [
  {
   "cell_type": "code",
   "execution_count": 24,
   "metadata": {},
   "outputs": [
    {
     "name": "stdout",
     "output_type": "stream",
     "text": [
      "['--input=./sample_data/sentence.txt', '--model=./models/WMSeg.BERT.CTB6.v1.0.pt', '--no_cuda']\n",
      "device: cpu gpu#: 0, 16-bits training: False\n"
     ]
    },
    {
     "name": "stderr",
     "output_type": "stream",
     "text": [
      "100%|██████████| 1/1 [00:01<00:00,  1.27s/it]"
     ]
    },
    {
     "name": "stdout",
     "output_type": "stream",
     "text": [
      "write results to ./sample_data/sentence.txt.out\n"
     ]
    },
    {
     "name": "stderr",
     "output_type": "stream",
     "text": [
      "\n"
     ]
    }
   ],
   "source": [
    "from wmseg_main import predict\n",
    "\n",
    "predict({\n",
    "  'input': './sample_data/sentence.txt',\n",
    "  'model': './models/WMSeg.BERT.CTB6.v1.0.pt',\n",
    "  'no_cuda': True\n",
    "})"
   ]
  }
 ],
 "metadata": {
  "kernelspec": {
   "display_name": "Python 3.10.8 ('.venv': pipenv)",
   "language": "python",
   "name": "python3"
  },
  "language_info": {
   "codemirror_mode": {
    "name": "ipython",
    "version": 3
   },
   "file_extension": ".py",
   "mimetype": "text/x-python",
   "name": "python",
   "nbconvert_exporter": "python",
   "pygments_lexer": "ipython3",
   "version": "3.10.8"
  },
  "orig_nbformat": 4,
  "vscode": {
   "interpreter": {
    "hash": "8186565ad1cb07f1f675d82d0344bd188f3b6eb0599cfd62f825c07a1c859fb9"
   }
  }
 },
 "nbformat": 4,
 "nbformat_minor": 2
}
